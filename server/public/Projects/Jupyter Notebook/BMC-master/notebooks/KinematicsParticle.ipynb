{
 "cells": [
  {
   "cell_type": "markdown",
   "metadata": {
    "slideshow": {
     "slide_type": "slide"
    }
   },
   "source": [
    "# Kinematics of particle\n",
    "\n",
    "> Marcos Duarte, Renato Naville Watanabe  \n",
    "> [Laboratory of Biomechanics and Motor Control](http://pesquisa.ufabc.edu.br/bmclab)  \n",
    "> Federal University of ABC, Brazil"
   ]
  },
  {
   "cell_type": "markdown",
   "metadata": {
    "slideshow": {
     "slide_type": "skip"
    }
   },
   "source": [
    "## Biomechanics & Mechanics\n",
    "\n",
    "**A good knowledge of Mechanics is a necessary condition, although not sufficient!, to master Biomechanics**\n",
    "\n",
    "For this reason, we will review principles of Classical Mechanics in the context of Biomechanics.  \n",
    "\n",
    "The book [*Introduction to Statics and Dynamics*](http://ruina.tam.cornell.edu/Book/index.html) , written by Andy Ruina and Rudra Pratap, is an excellent reference (a rigorous and yet didactic presentation of Mechanics for undergraduate students) on Classical Mechanics and we will use this book as the main reference on Mechanics and Mathematics for this brief review. The preface and first chapter of the book are a good read on how someone should study Mechanics. You should read them!\n",
    "\n",
    "As we argued in the notebook [Biomechanics](http://nbviewer.jupyter.org/github/demotu/BMC/blob/master/notebooks/Biomechanics.ipynb), we will start with a branch of Classical Mechanics that is simpler to measure its related quantities on biological systems, the Kinematics.  \n",
    "\n",
    "There are some relevant cases in the study of human movement where modeling the human body or one of its segments as a particle might be all we need to explore the phenomenon. The concept of kinematics of a particle, for instance, can be applied to study the performance in the 100-m race; to describe spatial and temporal characteristics of a movement pattern, and to conjecture about how voluntary movements are planned (the minimum jerk hypothesis).  \n",
    "\n",
    "Now, let's review the concept of kinematics of a particle and later apply to the study of human movement."
   ]
  },
  {
   "cell_type": "markdown",
   "metadata": {
    "slideshow": {
     "slide_type": "skip"
    }
   },
   "source": [
    "## Kinematics\n",
    "\n",
    "**Kinematics** is the branch of Classical Mechanics that describes the motion of objects without consideration of the causes of motion ([Wikipedia](http://en.wikipedia.org/wiki/Kinematics)).  \n",
    "\n",
    "Kinematics of a particle is the description of the motion when the object is considered a particle.  \n",
    "\n",
    "A particle as a physical object does not exist in nature; it is a simplification to understand the motion of a body or it is a conceptual definition such as the center of mass of a system of objects."
   ]
  },
  {
   "cell_type": "markdown",
   "metadata": {
    "slideshow": {
     "slide_type": "slide"
    }
   },
   "source": [
    "### Vectors in Kinematics\n",
    "\n",
    "Some mechanical quantities in Kinematics (position and its derivatives) are represented as vectors and others, such as time and distance, are scalars.  \n",
    "A vector in Mechanics is a physical quantity with magnitude, direction, and satisfies some elementary vector arithmetic, whereas a scalar is a physical quantity that is fully expressed by a magnitude (a number) only.  \n",
    "\n",
    "For a review about scalars and vectors, see chapter 1 of [Ruina and Rudra's book](http://ruina.tam.cornell.edu/Book/index.html).  \n",
    "\n",
    " For how to use Python to work with scalars and vectors, see the notebook [Scalar and Vector](http://nbviewer.jupyter.org/github/BMCLab/BMC/blob/master/notebooks/ScalarVector.ipynb)."
   ]
  },
  {
   "cell_type": "markdown",
   "metadata": {
    "slideshow": {
     "slide_type": "slide"
    }
   },
   "source": [
    "## Position\n",
    "\n",
    "Consider a point in the three-dimensional Euclidean space described in a Cartesian coordinate system (see the notebook [Frame of reference](http://nbviewer.jupyter.org/github/demotu/BMC/blob/master/notebooks/ReferenceFrame.ipynb) for an introduction on coordinate systems in Mechanics and Biomechanics):  \n",
    "<br>\n",
    "<figure><img src=\"./../images/vector3Dijk.png\" width=350/><figcaption><center><i>Figure. Representation of a point $\\mathbf{P}$ and its position vector $\\overrightarrow{\\mathbf{r}}$ in a Cartesian coordinate system. The versors <span class=\"notranslate\">$\\hat{\\mathbf{i}},\\, \\hat{\\mathbf{j}},\\, \\hat{\\mathbf{k}}\\,$ </span> form a basis for this coordinate system and are usually represented in the color sequence RGB (red, green, blue) for easier visualization.</i></center></figcaption></figure>  "
   ]
  },
  {
   "cell_type": "markdown",
   "metadata": {
    "slideshow": {
     "slide_type": "slide"
    }
   },
   "source": [
    "The position of this point in space can be represented as a triple of values each representing the coordinate at each axis of the Cartesian coordinate system following the $ \\mathbf{X, Y, Z} $ convention order (which is omitted):\n",
    "\n",
    "<span class=\"notranslate\">\n",
    "\\begin{equation}\n",
    "(x,\\, y,\\, z)\n",
    "\\label{eq_xyz}\n",
    "\\end{equation}\n",
    "</span>"
   ]
  },
  {
   "cell_type": "markdown",
   "metadata": {
    "slideshow": {
     "slide_type": "slide"
    }
   },
   "source": [
    "The position of a particle in space can also be represented by a vector in the Cartesian coordinate system, with the origin of the vector at the origin of the coordinate system and the tip of the vector at the point position:\n",
    "\n",
    "<span class=\"notranslate\">\n",
    "\\begin{equation}\n",
    "\\overrightarrow{\\mathbf{r}}(t) = x\\,\\hat{\\mathbf{i}} + y\\,\\hat{\\mathbf{j}} + z\\,\\hat{\\mathbf{k}}\n",
    "\\label{eq_rxyz}\n",
    "\\end{equation}    \n",
    "</span>\n",
    "\n",
    "Where <span class=\"notranslate\"> $\\hat{\\mathbf{i}},\\, \\hat{\\mathbf{j}},\\, \\hat{\\mathbf{k}}\\,$ </span> are unit vectors in the directions of the axes $ \\mathbf{X, Y, Z} $. \n",
    "\n",
    "For a review on vectors, see the notebook [Scalar and vector](http://nbviewer.ipython.org/github/demotu/BMC/blob/master/notebooks/ScalarVector.ipynb)."
   ]
  },
  {
   "cell_type": "markdown",
   "metadata": {
    "slideshow": {
     "slide_type": "slide"
    }
   },
   "source": [
    "With this new notation, the coordinates of a point representing the position of a particle that vary with time would be expressed by the following position vector $\\overrightarrow{\\mathbf{r}}(t)$:   \n",
    "\n",
    "<span class=\"notranslate\">\n",
    "\\begin{equation}\n",
    "\\overrightarrow{\\mathbf{r}}(t) = x(t)\\,\\hat{\\mathbf{i}} + y(t)\\,\\hat{\\mathbf{j}} + z(t)\\,\\hat{\\mathbf{k}}\n",
    "\\label{eq_rxyzijk}\n",
    "\\end{equation}\n",
    "</span>"
   ]
  },
  {
   "cell_type": "markdown",
   "metadata": {
    "slideshow": {
     "slide_type": "slide"
    }
   },
   "source": [
    "A vector can also be represented in matrix form:\n",
    "\n",
    "<span class=\"notranslate\">\n",
    "\\begin{equation}\n",
    "\\overrightarrow{\\mathbf{r}}(t) = \\begin{bmatrix} x(t) \\\\y(t) \\\\z(t) \\end{bmatrix}\n",
    "\\label{eq_rxyzmatrix}\n",
    "\\end{equation}\n",
    "</span>"
   ]
  },
  {
   "cell_type": "markdown",
   "metadata": {
    "slideshow": {
     "slide_type": "slide"
    }
   },
   "source": [
    "And the unit vectors in each Cartesian coordinate in matrix form are given by:\n",
    "\n",
    "<span class=\"notranslate\">\n",
    "\\begin{equation}\n",
    "\\hat{\\mathbf{i}} = \\begin{bmatrix}1\\\\0\\\\0 \\end{bmatrix},\\; \\hat{\\mathbf{j}} = \\begin{bmatrix}0\\\\1\\\\0 \\end{bmatrix},\\; \\hat{\\mathbf{k}} = \\begin{bmatrix} 0 \\\\ 0 \\\\ 1 \\end{bmatrix}\n",
    "\\label{eq_ijk}\n",
    "\\end{equation}\n",
    "</span>"
   ]
  },
  {
   "cell_type": "markdown",
   "metadata": {
    "slideshow": {
     "slide_type": "slide"
    }
   },
   "source": [
    "## Basis\n",
    "\n",
    "In [linear algebra](http://en.wikipedia.org/wiki/Linear_algebra), a set of unit linearly independent vectors as the three vectors above (orthogonal in the Euclidean space) that can represent any vector via [linear combination](http://en.wikipedia.org/wiki/Linear_combination) is called a basis. A basis is the foundation of creating a reference frame and we will study how to do that other time. "
   ]
  },
  {
   "cell_type": "markdown",
   "metadata": {
    "slideshow": {
     "slide_type": "slide"
    }
   },
   "source": [
    "## Displacement\n",
    "\n",
    "The shortest distance between two positions of a particle. \n",
    "\n",
    "As the difference between two vectors, displacement is also a vector quantity.\n",
    "\n",
    "<span class=\"notranslate\">\n",
    "\\begin{equation}\n",
    "\\mathbf{\\overrightarrow{d}} = \\mathbf{\\overrightarrow{r}_2} - \\mathbf{\\overrightarrow{r}_1}\n",
    "\\label{eq_distance}\n",
    "\\end{equation}\n",
    "</span>\n",
    "\n",
    "<figure><img src=\"./../images/displacement.png\" width=550/><figcaption><center><i>Figure. Representation of the displacement vector $\\mathbf{\\overrightarrow{d}}$ between two positions $\\mathbf{\\overrightarrow{r}_1}$ and $\\mathbf{\\overrightarrow{r}_2}$.</i></center></figcaption></figure>  "
   ]
  },
  {
   "cell_type": "markdown",
   "metadata": {
    "slideshow": {
     "slide_type": "slide"
    }
   },
   "source": [
    "## Velocity\n",
    "\n",
    "Velocity is the rate (with respect to time) of change of the position of a particle.  \n",
    "\n",
    "The average velocity between two instants is:\n",
    "\n",
    "<span class=\"notranslate\">\n",
    "\\begin{equation}\n",
    "\\overrightarrow{\\mathbf{v}}(t) = \\frac{\\overrightarrow{\\mathbf{r}}(t_2)-\\overrightarrow{\\mathbf{r}}(t_1)}{t_2-t_1} = \\frac{\\Delta \\overrightarrow{\\mathbf{r}}}{\\Delta t}\n",
    "\\label{eq_velocity}\n",
    "\\end{equation}\n",
    "</span>    \n",
    "\n",
    "The instantaneous velocity of the particle is obtained when $\\Delta t$ approaches to zero, which from calculus is the first-order [derivative](http://en.wikipedia.org/wiki/Derivative) of the position vector:\n",
    "\n",
    "<span class=\"notranslate\">\n",
    "\\begin{equation}\n",
    "\\overrightarrow{\\mathbf{v}}(t) = \\lim_{\\Delta t \\to 0} \\frac{\\Delta \\overrightarrow{\\mathbf{r}}}{\\Delta t} = \\lim_{\\Delta t \\to 0} \\frac{\\overrightarrow{\\mathbf{r}}(t+\\Delta t)-\\overrightarrow{\\mathbf{r}}(t)}{\\Delta t} = \\frac{\\mathrm{d}\\overrightarrow{\\mathbf{r}}}{dt}\n",
    "\\label{eq_velocityderiv}\n",
    "\\end{equation}\n",
    "</span> \n",
    "\n",
    "For the movement of a particle described with respect to an [inertial Frame of reference](http://nbviewer.jupyter.org/github/demotu/BMC/blob/master/notebooks/ReferenceFrame.ipynb), the derivative of a vector is obtained by differentiating each vector component of the Cartesian coordinates (since the base versors <span class=\"notranslate\"> $\\hat{\\mathbf{i}}, \\hat{\\mathbf{j}}, \\hat{\\mathbf{k}}$ </span> are constant):   \n",
    "\n",
    "<span class=\"notranslate\">\n",
    "\\begin{equation}\n",
    "\\overrightarrow{\\mathbf{v}}(t) = \\frac{\\mathrm{d}\\overrightarrow{\\mathbf{r}}(t)}{dt} = \\frac{\\mathrm{d}x(t)}{\\mathrm{d}t}\\hat{\\mathbf{i}} + \\frac{\\mathrm{d}y(t)}{\\mathrm{d}t}\\hat{\\mathbf{j}} + \\frac{\\mathrm{d}z(t)}{\\mathrm{d}t}\\hat{\\mathbf{k}}\n",
    "\\label{eq_velocityderiv2}\n",
    "\\end{equation}\n",
    "</span>\n",
    "\n",
    "Or in matrix form (and using the Newton's notation for differentiation):\n",
    "\n",
    "<span class=\"notranslate\">\n",
    "\\begin{equation} \n",
    "\\overrightarrow{\\mathbf{v}}(t) = \\begin{bmatrix}\n",
    "\\dot x(t) \\\\\n",
    "\\dot y(t) \\\\\n",
    "\\dot z(t)\n",
    "\\end{bmatrix}\n",
    "\\label{eq_velocityderiv3}\n",
    "\\end{equation}\n",
    "</span>"
   ]
  },
  {
   "cell_type": "markdown",
   "metadata": {
    "slideshow": {
     "slide_type": "slide"
    }
   },
   "source": [
    "## Acceleration  \n",
    "\n",
    "Acceleration is the rate (with respect to time) of change of the velocity of a particle, which can also be given by the second-order rate of change of the position.\n",
    "\n",
    "The average acceleration between two instants is:\n",
    "\n",
    "<span class=\"notranslate\">\n",
    "\\begin{equation}\n",
    "\\overrightarrow{\\mathbf{a}}(t) = \\frac{\\overrightarrow{\\mathbf{v}}(t_2)-\\overrightarrow{\\mathbf{v}}(t_1)}{t_2-t_1} = \\frac{\\Delta \\overrightarrow{\\mathbf{v}}}{\\Delta t}\n",
    "\\label{eq_acc}\n",
    "\\end{equation}\n",
    "</span>\n",
    "\n",
    "Likewise, instantaneous acceleration is the first-order derivative of the velocity or the second-order derivative of the position vector:   \n",
    "\n",
    "<span class=\"notranslate\">\n",
    "\\begin{equation} \n",
    "\\overrightarrow{\\mathbf{a}}(t) = \\frac{\\mathrm{d}\\overrightarrow{\\mathbf{v}}(t)}{\\mathrm{d}t} = \\frac{\\mathrm{d}^2\\overrightarrow{\\mathbf{r}}(t)}{\\mathrm{d}t^2} = \\frac{\\mathrm{d}^2x(t)}{\\mathrm{d}t^2}\\hat{\\mathbf{i}} + \\frac{\\mathrm{d}^2y(t)}{\\mathrm{d}t^2}\\hat{\\mathbf{j}} + \\frac{\\mathrm{d}^2z(t)}{\\mathrm{d}t^2}\\hat{\\mathbf{k}}\n",
    "\\label{eq_accderiv}\n",
    "\\end{equation}\n",
    "</span>\n",
    "\n",
    "And in matrix form:\n",
    "\n",
    "<span class=\"notranslate\">\n",
    "\\begin{equation} \n",
    "\\mathbf{a}(t) = \\begin{bmatrix}\n",
    "\\ddot x(t) \\\\\n",
    "\\ddot y(t) \\\\\n",
    "\\ddot z(t)\n",
    "\\end{bmatrix}\n",
    "\\label{eq_accderiv2}\n",
    "\\end{equation}\n",
    "</span>"
   ]
  },
  {
   "cell_type": "markdown",
   "metadata": {
    "slideshow": {
     "slide_type": "skip"
    }
   },
   "source": [
    "For curiosity, see [Notation for differentiation](https://en.wikipedia.org/wiki/Notation_for_differentiation) on the origin of the different notations for differentiation.\n",
    "\n",
    "When the base versors change in time, for instance when the basis is attached to a rotating frame or reference, the components of the vector’s derivative is not the derivatives of its components; we will also have to consider the derivative of the basis with respect to time."
   ]
  },
  {
   "cell_type": "markdown",
   "metadata": {
    "slideshow": {
     "slide_type": "slide"
    }
   },
   "source": [
    "## The antiderivative\n",
    "\n",
    "As the acceleration is the derivative of the velocity which is the derivative of position, the inverse mathematical operation is the [antiderivative](http://en.wikipedia.org/wiki/Antiderivative) (or integral):\n",
    "\n",
    "<span class=\"notranslate\">\n",
    "\\begin{equation} \n",
    "\\begin{array}{l l}\n",
    "\\mathbf{r}(t) = \\mathbf{r}_0 + \\int \\mathbf{v}(t) \\:\\mathrm{d}t \\\\\n",
    "\\mathbf{v}(t) = \\mathbf{v}_0 + \\int \\mathbf{a}(t) \\:\\mathrm{d}t \n",
    "\\end{array}\n",
    "\\label{eq_antiderivative}\n",
    "\\end{equation}\n",
    "</span>"
   ]
  },
  {
   "cell_type": "markdown",
   "metadata": {
    "slideshow": {
     "slide_type": "skip"
    }
   },
   "source": [
    "**This part of the kinematics is presented in chapter 12, pages 605-620, of the [Ruina and Rudra's book](http://ruina.tam.cornell.edu/Book/index.html).** "
   ]
  },
  {
   "cell_type": "markdown",
   "metadata": {
    "slideshow": {
     "slide_type": "slide"
    }
   },
   "source": [
    "## Some cases of motion of a particle\n",
    "\n",
    "To deduce some trivial cases of motion of a particle (at rest, at constant speed, and at constant acceleration), we can start from the equation for its position and differentiate it to obtain expressions for the velocity and acceleration or the inverse approach, start with the equation for acceleration, and then integrate it to obtain the velocity and position of the particle. Both approachs are valid in Mechanics. For the present case, it probaly makes more sense to start with the expression for acceleration.\n",
    "\n",
    "#### Particle at rest\n",
    "\n",
    "<span class=\"notranslate\">\n",
    "\\begin{equation} \n",
    "\\begin{array}{l l}\n",
    "\\overrightarrow{\\mathbf{a}}(t) = 0 \\\\\n",
    "\\overrightarrow{\\mathbf{v}}(t) = 0 \\\\\n",
    "\\overrightarrow{\\mathbf{r}}(t) = \\overrightarrow{\\mathbf{r}}_0\n",
    "\\end{array}\n",
    "\\label{eq_rest}\n",
    "\\end{equation}\n",
    "</span>"
   ]
  },
  {
   "cell_type": "markdown",
   "metadata": {
    "slideshow": {
     "slide_type": "slide"
    }
   },
   "source": [
    "#### Particle at constant speed\n",
    "\n",
    "<span class=\"notranslate\">\n",
    "\\begin{equation} \n",
    "\\begin{array}{l l}\n",
    "\\overrightarrow{\\mathbf{a}}(t) = 0 \\\\\n",
    "\\overrightarrow{\\mathbf{v}}(t) = \\overrightarrow{\\mathbf{v}}_0 \\\\\n",
    "\\overrightarrow{\\mathbf{r}}(t) = \\overrightarrow{\\mathbf{r}}_0 + \\overrightarrow{\\mathbf{v}}_0t\n",
    "\\end{array}\n",
    "\\label{eq_constantspeed}\n",
    "\\end{equation}\n",
    "</span>"
   ]
  },
  {
   "cell_type": "markdown",
   "metadata": {
    "slideshow": {
     "slide_type": "slide"
    }
   },
   "source": [
    "#### Particle at constant acceleration\n",
    "\n",
    "<span class=\"notranslate\">\n",
    "\\begin{equation} \n",
    "\\begin{array}{l l}\n",
    "\\overrightarrow{\\mathbf{a}}(t) = \\overrightarrow{\\mathbf{a}}_0 \\\\\n",
    "\\overrightarrow{\\mathbf{v}}(t) = \\overrightarrow{\\mathbf{v}}_0 + \\overrightarrow{\\mathbf{a}}_0t \\\\\n",
    "\\overrightarrow{\\mathbf{r}}(t) = \\overrightarrow{\\mathbf{r}}_0 + \\overrightarrow{\\mathbf{v}}_0t + \n",
    "\\frac{1}{2}\\overrightarrow{\\mathbf{a}}_0 t^2 \n",
    "\\end{array}\n",
    "\\label{eq_constantacceleration}\n",
    "\\end{equation}\n",
    "</span>"
   ]
  },
  {
   "cell_type": "markdown",
   "metadata": {
    "slideshow": {
     "slide_type": "slide"
    }
   },
   "source": [
    "### Visual representation of these cases"
   ]
  },
  {
   "cell_type": "code",
   "execution_count": 1,
   "metadata": {
    "ExecuteTime": {
     "end_time": "2016-09-28T22:35:19.926305",
     "start_time": "2016-09-28T22:35:16.809667"
    },
    "collapsed": true,
    "jupyter": {
     "outputs_hidden": true
    },
    "slideshow": {
     "slide_type": "fragment"
    }
   },
   "outputs": [],
   "source": [
    "import numpy as np\n",
    "import matplotlib.pyplot as plt\n",
    "%matplotlib inline\n",
    "import seaborn as sns\n",
    "sns.set_context(\"notebook\", font_scale=1.2, rc={\"lines.linewidth\": 2, \"lines.markersize\": 10})"
   ]
  },
  {
   "cell_type": "code",
   "execution_count": 2,
   "metadata": {
    "ExecuteTime": {
     "end_time": "2016-09-28T22:35:21.675487",
     "start_time": "2016-09-28T22:35:19.927305"
    },
    "slideshow": {
     "slide_type": "fragment"
    }
   },
   "outputs": [
    {
     "data": {
      "image/png": "[encoded data removed]",
      "text/plain": [
       "<Figure size 1008x504 with 9 Axes>"
      ]
     },
     "metadata": {
      "needs_background": "light"
     },
     "output_type": "display_data"
    }
   ],
   "source": [
    "t = np.arange(0, 2.0, 0.02)\n",
    "r0 = 1; v0 = 2; a0 = 4\n",
    "\n",
    "plt.rc('axes',  labelsize=14,  titlesize=14) \n",
    "plt.rc('xtick', labelsize=10)\n",
    "plt.rc('ytick', labelsize=10) \n",
    "f, axarr = plt.subplots(3, 3, sharex = True, sharey = True, figsize=(14,7))\n",
    "plt.suptitle('Scalar kinematics of a particle', fontsize=20);\n",
    "\n",
    "tones = np.ones(np.size(t))\n",
    "\n",
    "axarr[0, 0].set_title('at rest', fontsize=14);\n",
    "axarr[0, 0].plot(t, r0*tones, 'g', linewidth=4, label='$r(t)=1$')\n",
    "axarr[1, 0].plot(t,  0*tones, 'b', linewidth=4, label='$v(t)=0$')\n",
    "axarr[2, 0].plot(t,  0*tones, 'r', linewidth=4, label='$a(t)=0$')\n",
    "axarr[0, 0].set_ylabel('r(t) [m]')\n",
    "axarr[1, 0].set_ylabel('v(t) [m/s]')\n",
    "axarr[2, 0].set_ylabel('a(t) [m/s$^2$]')\n",
    "\n",
    "axarr[0, 1].set_title('at constant speed');\n",
    "axarr[0, 1].plot(t, r0*tones+v0*t, 'g', linewidth=4, label='$r(t)=1+2t$')\n",
    "axarr[1, 1].plot(t, v0*tones,      'b', linewidth=4, label='$v(t)=2$')\n",
    "axarr[2, 1].plot(t,  0*tones,      'r', linewidth=4, label='$a(t)=0$')\n",
    "\n",
    "axarr[0, 2].set_title('at constant acceleration');\n",
    "axarr[0, 2].plot(t, r0*tones+v0*t+1/2.*a0*t**2,'g', linewidth=4,\n",
    "                 label='$r(t)=1+2t+\\\\frac{1}{2}4t^2$')\n",
    "axarr[1, 2].plot(t, v0*tones+a0*t,             'b', linewidth=4,\n",
    "                 label='$v(t)=2+4t$')\n",
    "axarr[2, 2].plot(t, a0*tones,                  'r', linewidth=4,\n",
    "                 label='$a(t)=4$')\n",
    "\n",
    "for i in range(3): \n",
    "    axarr[2, i].set_xlabel('Time [s]');\n",
    "    for j in range(3):\n",
    "        axarr[i,j].set_ylim((-.2, 10))\n",
    "        axarr[i,j].legend(loc = 'upper left', frameon=True, framealpha = 0.9, fontsize=16)\n",
    "        \n",
    "plt.subplots_adjust(hspace=0.09, wspace=0.07)"
   ]
  },
  {
   "cell_type": "markdown",
   "metadata": {
    "slideshow": {
     "slide_type": "skip"
    }
   },
   "source": [
    "## Symbolic programming\n",
    "\n",
    "We can use [Sympy](http://www.sympy.org/en/index.html), a Python library for symbolic mathematics, to deduce the expressions for the cases of motion of a particle we just visualized.  \n",
    "Let's show how to integrate with Sympy for the case of particle with constant acceleration:"
   ]
  },
  {
   "cell_type": "code",
   "execution_count": 3,
   "metadata": {
    "collapsed": true,
    "jupyter": {
     "outputs_hidden": true
    },
    "slideshow": {
     "slide_type": "skip"
    }
   },
   "outputs": [],
   "source": [
    "from sympy import Symbol, integrate, init_printing\n",
    "init_printing(use_latex='mathjax')\n",
    "\n",
    "t = Symbol('t', real=True, positive=True)\n",
    "g = Symbol('g', real=True, positive=True)\n",
    "v0 = Symbol('v0', real=True, positive=True, constant = True)\n",
    "r0 = Symbol('r0', real=True, positive=True, constant = True)"
   ]
  },
  {
   "cell_type": "code",
   "execution_count": 4,
   "metadata": {
    "slideshow": {
     "slide_type": "skip"
    }
   },
   "outputs": [
    {
     "data": {
      "text/latex": [
       "$\\displaystyle g t + v_{0}$"
      ],
      "text/plain": [
       "g⋅t + v₀"
      ]
     },
     "execution_count": 4,
     "metadata": {},
     "output_type": "execute_result"
    }
   ],
   "source": [
    "v = integrate(g, t) + v0  # a constant has to be added\n",
    "v"
   ]
  },
  {
   "cell_type": "code",
   "execution_count": 5,
   "metadata": {
    "slideshow": {
     "slide_type": "skip"
    }
   },
   "outputs": [
    {
     "data": {
      "text/latex": [
       "$\\displaystyle \\frac{g t^{2}}{2} + r_{0} + t v_{0}$"
      ],
      "text/plain": [
       "   2            \n",
       "g⋅t             \n",
       "──── + r₀ + t⋅v₀\n",
       " 2              "
      ]
     },
     "execution_count": 5,
     "metadata": {},
     "output_type": "execute_result"
    }
   ],
   "source": [
    "r = integrate(v, t) + r0  # a constant has to be added\n",
    "r"
   ]
  },
  {
   "cell_type": "markdown",
   "metadata": {
    "slideshow": {
     "slide_type": "slide"
    }
   },
   "source": [
    "## Kinematics of human movement"
   ]
  },
  {
   "cell_type": "markdown",
   "metadata": {
    "slideshow": {
     "slide_type": "fragment"
    }
   },
   "source": [
    "### Kinematics of the 100-m race\n",
    "\n",
    "An example where the analysis of some aspects of the human body movement can be reduced to the analysis of a particle is the study of the Biomechanics of the 100-m race. \n",
    "\n",
    "A technical report with the kinematic data for the 100-m world record by Usain Bolt can be downloaded from the [website for Research Projects](http://www.iaaf.org/development/research) from the International Association of Athletics Federations.  \n",
    "[Here is a direct link for that report](http://www.iaaf.org/download/download?filename=76ade5f9-75a0-4fda-b9bf-1b30be6f60d2.pdf&urlSlug=1-biomechanics-report-wc-berlin-2009-sprint). In particular, the following table shows the data for the three medalists in that race:  \n",
    "<br>\n",
    "<figure><img src=\"./../images/Berlin2009_100m.png\" width=700 alt=\"partial times of the 100m-race at Berlin 2009\"/><figcaption><center><i>Figure. Data from the three medalists of the 100-m dash in Berlin, 2009 (<a href=\"http://www.iaaf.org/download/download?filename=76ade5f9-75a0-4fda-b9bf-1b30be6f60d2.pdf&urlSlug=1-biomechanics-report-wc-berlin-2009-sprint)\">IAAF report</a>).</i></center></figcaption></figure>\n",
    "\n",
    "The column **RT** in the table above refers to the reaction time of each athlete. The IAAF has a very strict rule about reaction time: any athlete with a reaction time less than 100 ms is disqualified from the competition! See the website [Reaction Times and Sprint False Starts](http://condellpark.com/kd/reactiontime.htm) for a discussion about this rule.\n",
    "\n",
    "You can measure your own reaction time in a simple way visiting this website: [http://www.humanbenchmark.com/tests/reactiontime](http://www.humanbenchmark.com/tests/reactiontime).\n",
    "\n",
    "The article [A Kinematics Analysis Of Three Best 100 M Performances Ever](http://www.ncbi.nlm.nih.gov/pmc/articles/PMC3661886/) by Krzysztof and Mero presents a detailed kinematic analysis of 100-m races.  "
   ]
  },
  {
   "cell_type": "markdown",
   "metadata": {
    "slideshow": {
     "slide_type": "subslide"
    }
   },
   "source": [
    "### Spatial and temporal characteristics of a movement pattern\n",
    "\n",
    "See the notebook [Spatial and temporal characteristics](http://nbviewer.jupyter.org/github/demotu/BMC/blob/master/notebooks/SpatialTemporalCharacteristcs.ipynb) about how the simple measurement of spatial and temporal kinematic variables can be very useful to describe the human gait."
   ]
  },
  {
   "cell_type": "markdown",
   "metadata": {
    "slideshow": {
     "slide_type": "skip"
    }
   },
   "source": [
    "### The minimum jerk hypothesis\n",
    "\n",
    "See the notebook [The minimum jerk hypothesis](http://nbviewer.jupyter.org/github/demotu/BMC/blob/master/notebooks/MinimumJerkHypothesis.ipynb) about the conjecture that movements are performed (organized) with the smoothest trajectory possible."
   ]
  },
  {
   "cell_type": "markdown",
   "metadata": {
    "slideshow": {
     "slide_type": "slide"
    }
   },
   "source": [
    "## Problems\n",
    "\n",
    "1. Read the preface and first chapter of the [Ruina and Rudra's book](http://ruina.tam.cornell.edu/Book/index.html) about how someone should study Mechanics.  \n",
    "\n",
    "2. Consider the data for the three medalists of the 100-m dash in Berlin, 2009, shown previously.  \n",
    " a. Calculate the average velocity and acceleration.   \n",
    " b. Plot the graphs for the displacement, velocity, and acceleration versus time.   \n",
    " c. Plot the graphs velocity and acceleration versus partial distance (every 20m).   \n",
    " d. Calculate the average velocity and average acceleration and the instants and values of the peak velocity and peak acceleration.  \n",
    "\n",
    "3. The article \"Biomechanical Analysis of the Sprint and Hurdles Events at the 2009 IAAF World Championships in Athletics\" by Graubner and Nixdorf lists the 10-m split times for the three medalists of the 100-m dash in Berlin, 2009:     \n",
    "<br>\n",
    "<figure><img src=\"./../images/Berlin2009_100m_10.png\" width=600 alt=\"partial times of the 100m-race at Berlin 2009\"/></figure>  \n",
    "\n",
    " a. Repeat the same calculations performed in problem 2 and compare the results.  \n",
    "\n",
    "4. A body attached to a spring has its position (in cm) described by the equation $x(t) = 2\\sin(4\\pi t + \\pi/4)$.   \n",
    " a. Calculate the equation for the body velocity and acceleration.   \n",
    " b. Plot the position, velocity, and acceleration in the interval [0, 1] s.  \n",
    " \n",
    "5. There are some nice free software that can be used for the kinematic analysis of human motion. Some of them are: [Kinovea](http://www.kinovea.org/), [Tracker](http://www.cabrillo.edu/~dbrown/tracker/), and [SkillSpector](http://video4coach.com/index.php?option=com_content&task=view&id=13&Itemid=45). Visit their websites and explore these software to understand in which biomechanical applications they could be used.  \n",
    "\n",
    "6. (Sample 12.1 of Ruina and Rudra's book) The position vector of a particle is given as a functions time:<span class=\"notranslate\"> $\\overrightarrow{\\mathbf{r}}(t) = (C_1+C_2t+C_3t^2)\\hat{\\mathbf{i}}+C_4t\\,\\hat{\\mathbf{j}}$ </span>. Where $C_1=1m, C_2=3m/s,C_3=1m/s^2, C_4=2m/s$.  \n",
    " a. Find the position, velocity, and acceleration of the particle at $t=2s$.  \n",
    " b. Find the change in the position of the particle between $t=2s$ and $t=3s$.  \n",
    "\n",
    "7. From Ruina and Rudra's book, solve the problems **12.1.1** to **12.1.14**. "
   ]
  },
  {
   "cell_type": "markdown",
   "metadata": {
    "slideshow": {
     "slide_type": "slide"
    }
   },
   "source": [
    "## References\n",
    "\n",
    "- Graubner R, Nixdorf E (2011) [Biomechanical Analysis of the Sprint and Hurdles Events at the 2009 IAAF World Championships in Athletics ](http://www.meathathletics.ie/devathletes/pdf/Biomechanics%20of%20Sprints.pdf). [New Studies in Athletics](http://www.iaaf.org/development/new-studies-in-athletics), 1/2, 19-53.\n",
    "- Krzysztof M, Antti Mero A (2013) [A Kinematics Analysis Of Three Best 100 M Performances Ever](http://www.ncbi.nlm.nih.gov/pmc/articles/PMC3661886/). Journal of Human Kinetics, 36, 149–160.\n",
    "- [Research Projects](http://www.iaaf.org/development/research) from the International Association of Athletics Federations.  \n",
    "- Ruina A, Rudra P (2019) [Introduction to Statics and Dynamics](http://ruina.tam.cornell.edu/Book/index.html). Oxford University Press.  "
   ]
  }
 ],
 "metadata": {
  "anaconda-cloud": {},
  "hide_input": false,
  "kernelspec": {
   "display_name": "Python 3",
   "language": "python",
   "name": "python3"
  },
  "language_info": {
   "codemirror_mode": {
    "name": "ipython",
    "version": 3
   },
   "file_extension": ".py",
   "mimetype": "text/x-python",
   "name": "python",
   "nbconvert_exporter": "python",
   "pygments_lexer": "ipython3",
   "version": "3.7.3"
  },
  "latex_envs": {
   "LaTeX_envs_menu_present": true,
   "autoclose": false,
   "autocomplete": true,
   "bibliofile": "biblio.bib",
   "cite_by": "apalike",
   "current_citInitial": 1,
   "eqLabelWithNumbers": true,
   "eqNumInitial": 1,
   "hotkeys": {
    "equation": "Ctrl-E",
    "itemize": "Ctrl-I"
   },
   "labels_anchors": false,
   "latex_user_defs": false,
   "report_style_numbering": false,
   "user_envs_cfg": false
  },
  "nbTranslate": {
   "displayLangs": [
    "*"
   ],
   "hotkey": "alt-t",
   "langInMainMenu": true,
   "sourceLang": "en",
   "targetLang": "fr",
   "useGoogleTranslate": true
  },
  "varInspector": {
   "cols": {
    "lenName": 16,
    "lenType": 16,
    "lenVar": 40
   },
   "kernels_config": {
    "python": {
     "delete_cmd_postfix": "",
     "delete_cmd_prefix": "del ",
     "library": "var_list.py",
     "varRefreshCmd": "print(var_dic_list())"
    },
    "r": {
     "delete_cmd_postfix": ") ",
     "delete_cmd_prefix": "rm(",
     "library": "var_list.r",
     "varRefreshCmd": "cat(var_dic_list()) "
    }
   },
   "types_to_exclude": [
    "module",
    "function",
    "builtin_function_or_method",
    "instance",
    "_Feature"
   ],
   "window_display": false
  },
  "widgets": {
   "application/vnd.jupyter.widget-state+json": {
    "state": {},
    "version_major": 2,
    "version_minor": 0
   }
  }
 },
 "nbformat": 4,
 "nbformat_minor": 4
}
